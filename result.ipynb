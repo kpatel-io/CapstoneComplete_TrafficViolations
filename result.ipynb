{
 "cells": [
  {
   "cell_type": "code",
   "execution_count": 1,
   "id": "65dfca68",
   "metadata": {
    "execution": {
     "iopub.execute_input": "2022-06-01T14:21:25.132404Z",
     "iopub.status.busy": "2022-06-01T14:21:25.131810Z",
     "iopub.status.idle": "2022-06-01T14:21:26.034461Z",
     "shell.execute_reply": "2022-06-01T14:21:26.034114Z"
    },
    "papermill": {
     "duration": 0.914658,
     "end_time": "2022-06-01T14:21:26.035518",
     "exception": false,
     "start_time": "2022-06-01T14:21:25.120860",
     "status": "completed"
    },
    "tags": []
   },
   "outputs": [
    {
     "name": "stderr",
     "output_type": "stream",
     "text": [
      "/opt/homebrew/lib/python3.9/site-packages/geopandas/_compat.py:111: UserWarning: The Shapely GEOS version (3.10.2-CAPI-1.16.0) is incompatible with the GEOS version PyGEOS was compiled with (3.10.1-CAPI-1.16.0). Conversions between both will be slow.\n",
      "  warnings.warn(\n"
     ]
    }
   ],
   "source": [
    "import zipfile\n",
    "import csv\n",
    "import pandas as pd\n",
    "import os\n",
    "import logging\n",
    "import pathlib\n",
    "import matplotlib\n",
    "import matplotlib.pyplot as plt\n",
    "import geopandas as gdp\n",
    "import plotly.express as px \n",
    "import plotly.io as pio\n",
    "import plotly.figure_factory as ff\n",
    "import kaleido\n",
    "import glob\n",
    "\n",
    "from os.path import exists\n",
    "from pathlib import Path"
   ]
  },
  {
   "cell_type": "code",
   "execution_count": 2,
   "id": "c00c1698",
   "metadata": {
    "execution": {
     "iopub.execute_input": "2022-06-01T14:21:26.040763Z",
     "iopub.status.busy": "2022-06-01T14:21:26.040611Z",
     "iopub.status.idle": "2022-06-01T14:21:26.042566Z",
     "shell.execute_reply": "2022-06-01T14:21:26.042319Z"
    },
    "papermill": {
     "duration": 0.005849,
     "end_time": "2022-06-01T14:21:26.043437",
     "exception": false,
     "start_time": "2022-06-01T14:21:26.037588",
     "status": "completed"
    },
    "tags": []
   },
   "outputs": [],
   "source": [
    "#Subset of Master Data \n",
    "if not os.path.exists('exported'):\n",
    "    os.makedirs('exported')\n",
    "\n",
    "#Subset with Conditions    \n",
    "if not os.path.exists('conditions'):\n",
    "    os.makedirs('conditions')"
   ]
  },
  {
   "cell_type": "code",
   "execution_count": 3,
   "id": "d1daa420",
   "metadata": {
    "execution": {
     "iopub.execute_input": "2022-06-01T14:21:26.047398Z",
     "iopub.status.busy": "2022-06-01T14:21:26.047299Z",
     "iopub.status.idle": "2022-06-01T14:21:26.052259Z",
     "shell.execute_reply": "2022-06-01T14:21:26.052034Z"
    },
    "papermill": {
     "duration": 0.007872,
     "end_time": "2022-06-01T14:21:26.053075",
     "exception": false,
     "start_time": "2022-06-01T14:21:26.045203",
     "status": "completed"
    },
    "tags": []
   },
   "outputs": [
    {
     "data": {
      "text/plain": [
       "27"
      ]
     },
     "execution_count": 3,
     "metadata": {},
     "output_type": "execute_result"
    }
   ],
   "source": [
    "#Logging File for Metrics\n",
    "logging.basicConfig(filename='logs.log', level=logging.ERROR)\n",
    "\n",
    "#Text File for Unit Tests\n",
    "UnitTest = open(pathlib.Path(\".\", \"UnitTest.txt\").resolve(),\"w\")\n",
    "#UnitTest = open(r\"C:\\Users\\KEVAL\\Desktop\\DataEngineering_CapstoneProject\\UnitTest.txt\", \"w\")\n",
    "\n",
    "UnitTest.write(\"This is the UNIT Test File\"+ \"\\n\")"
   ]
  },
  {
   "cell_type": "code",
   "execution_count": 4,
   "id": "7588dc94",
   "metadata": {
    "execution": {
     "iopub.execute_input": "2022-06-01T14:21:26.057329Z",
     "iopub.status.busy": "2022-06-01T14:21:26.057220Z",
     "iopub.status.idle": "2022-06-01T14:21:26.059481Z",
     "shell.execute_reply": "2022-06-01T14:21:26.059235Z"
    },
    "papermill": {
     "duration": 0.005281,
     "end_time": "2022-06-01T14:21:26.060312",
     "exception": false,
     "start_time": "2022-06-01T14:21:26.055031",
     "status": "completed"
    },
    "tags": []
   },
   "outputs": [],
   "source": [
    "#Check if file is in folder\n",
    "\n",
    "def filecheck(location):\n",
    "    # check if it exist\n",
    "    try:\n",
    "        file_exists = os.path.exists(location)\n",
    "        path = os.path.dirname(os.path.abspath(location))\n",
    "        #Print to UnitTest\n",
    "        UnitTest.write(\"Successfull!! -- The path of the file is: \" + path + \"-->\" + location + \"\\n\")\n",
    "    except Exception as e:\n",
    "        #Print to UnitTest.txt\n",
    "        UnitTest.write(\"ERROR: Unsuccessfull!! -- The path of the file is: \" + path + \"-->\" + location + \"\\n\")\n",
    "        print(e)\n",
    "        print(\"Error: File NOT IN LOCATION \" + location)\n",
    "        return\n",
    "    return "
   ]
  },
  {
   "cell_type": "markdown",
   "id": "5b6f3d2c",
   "metadata": {
    "papermill": {
     "duration": 0.00188,
     "end_time": "2022-06-01T14:21:26.064041",
     "exception": false,
     "start_time": "2022-06-01T14:21:26.062161",
     "status": "completed"
    },
    "tags": []
   },
   "source": [
    "Download data from source and store locally. The file is then inzipped so the data can be viewed. "
   ]
  },
  {
   "cell_type": "code",
   "execution_count": 5,
   "id": "c8c312cb",
   "metadata": {
    "execution": {
     "iopub.execute_input": "2022-06-01T14:21:26.068093Z",
     "iopub.status.busy": "2022-06-01T14:21:26.067987Z",
     "iopub.status.idle": "2022-06-01T14:21:29.475059Z",
     "shell.execute_reply": "2022-06-01T14:21:29.474703Z"
    },
    "papermill": {
     "duration": 3.410194,
     "end_time": "2022-06-01T14:21:29.476013",
     "exception": false,
     "start_time": "2022-06-01T14:21:26.065819",
     "status": "completed"
    },
    "scrolled": true,
    "tags": []
   },
   "outputs": [
    {
     "name": "stdout",
     "output_type": "stream",
     "text": [
      "Warning: Your Kaggle API key is readable by other users on this system! To fix this, you can run 'chmod 600 /Users/kevalmac/.kaggle/kaggle.json'\r\n"
     ]
    },
    {
     "name": "stdout",
     "output_type": "stream",
     "text": [
      "Downloading traffic-violations-in-usa.zip to /Users/kevalmac/Desktop/SPRINGBOARD/DataEngineering_CapstoneProject\r\n",
      "\r",
      "  0%|                                               | 0.00/48.5M [00:00<?, ?B/s]"
     ]
    },
    {
     "name": "stdout",
     "output_type": "stream",
     "text": [
      "\r",
      "  2%|▊                                     | 1.00M/48.5M [00:00<00:05, 9.29MB/s]"
     ]
    },
    {
     "name": "stdout",
     "output_type": "stream",
     "text": [
      "\r",
      "  8%|███▏                                  | 4.00M/48.5M [00:00<00:02, 19.7MB/s]"
     ]
    },
    {
     "name": "stdout",
     "output_type": "stream",
     "text": [
      "\r",
      " 14%|█████▍                                | 7.00M/48.5M [00:00<00:01, 23.6MB/s]"
     ]
    },
    {
     "name": "stdout",
     "output_type": "stream",
     "text": [
      "\r",
      " 21%|███████▊                              | 10.0M/48.5M [00:00<00:01, 25.6MB/s]"
     ]
    },
    {
     "name": "stdout",
     "output_type": "stream",
     "text": [
      "\r",
      " 27%|██████████▏                           | 13.0M/48.5M [00:00<00:01, 26.6MB/s]"
     ]
    },
    {
     "name": "stdout",
     "output_type": "stream",
     "text": [
      "\r",
      " 33%|████████████▌                         | 16.0M/48.5M [00:00<00:01, 25.0MB/s]"
     ]
    },
    {
     "name": "stdout",
     "output_type": "stream",
     "text": [
      "\r",
      " 39%|██████████████▉                       | 19.0M/48.5M [00:00<00:01, 26.1MB/s]"
     ]
    },
    {
     "name": "stdout",
     "output_type": "stream",
     "text": [
      "\r",
      " 45%|█████████████████▏                    | 22.0M/48.5M [00:00<00:01, 26.8MB/s]"
     ]
    },
    {
     "name": "stdout",
     "output_type": "stream",
     "text": [
      "\r",
      " 52%|███████████████████▌                  | 25.0M/48.5M [00:01<00:00, 27.3MB/s]"
     ]
    },
    {
     "name": "stdout",
     "output_type": "stream",
     "text": [
      "\r",
      " 58%|█████████████████████▉                | 28.0M/48.5M [00:01<00:00, 27.7MB/s]"
     ]
    },
    {
     "name": "stdout",
     "output_type": "stream",
     "text": [
      "\r",
      " 64%|████████████████████████▎             | 31.0M/48.5M [00:01<00:00, 28.0MB/s]"
     ]
    },
    {
     "name": "stdout",
     "output_type": "stream",
     "text": [
      "\r",
      " 70%|██████████████████████████▋           | 34.0M/48.5M [00:01<00:00, 28.1MB/s]"
     ]
    },
    {
     "name": "stdout",
     "output_type": "stream",
     "text": [
      "\r",
      " 76%|████████████████████████████▉         | 37.0M/48.5M [00:01<00:00, 28.3MB/s]"
     ]
    },
    {
     "name": "stdout",
     "output_type": "stream",
     "text": [
      "\r",
      " 82%|███████████████████████████████▎      | 40.0M/48.5M [00:01<00:00, 26.8MB/s]"
     ]
    },
    {
     "name": "stdout",
     "output_type": "stream",
     "text": [
      "\r",
      " 89%|█████████████████████████████████▋    | 43.0M/48.5M [00:01<00:00, 27.3MB/s]"
     ]
    },
    {
     "name": "stdout",
     "output_type": "stream",
     "text": [
      "\r",
      " 95%|████████████████████████████████████  | 46.0M/48.5M [00:01<00:00, 27.7MB/s]"
     ]
    },
    {
     "name": "stdout",
     "output_type": "stream",
     "text": [
      "\r\n",
      "\r",
      "100%|██████████████████████████████████████| 48.5M/48.5M [00:01<00:00, 26.5MB/s]\r\n"
     ]
    },
    {
     "name": "stdout",
     "output_type": "stream",
     "text": [
      "downloaded data\n"
     ]
    },
    {
     "name": "stdout",
     "output_type": "stream",
     "text": [
      "unzipped the data\n"
     ]
    }
   ],
   "source": [
    "!kaggle datasets download --force -d felix4guti/traffic-violations-in-usa\n",
    "print('downloaded data')\n",
    "with zipfile.ZipFile(\"./{}.zip\".format(\"traffic-violations-in-usa\"),\"r\") as z:\n",
    "    z.extractall(\".\")\n",
    "print('unzipped the data')"
   ]
  },
  {
   "cell_type": "markdown",
   "id": "7dbb922c",
   "metadata": {
    "papermill": {
     "duration": 0.002285,
     "end_time": "2022-06-01T14:21:29.480890",
     "exception": false,
     "start_time": "2022-06-01T14:21:29.478605",
     "status": "completed"
    },
    "tags": []
   },
   "source": [
    "The dataset is opened. "
   ]
  },
  {
   "cell_type": "code",
   "execution_count": 6,
   "id": "9437a4b9",
   "metadata": {
    "execution": {
     "iopub.execute_input": "2022-06-01T14:21:29.486116Z",
     "iopub.status.busy": "2022-06-01T14:21:29.485956Z",
     "iopub.status.idle": "2022-06-01T14:21:39.977054Z",
     "shell.execute_reply": "2022-06-01T14:21:39.976748Z"
    },
    "papermill": {
     "duration": 10.49497,
     "end_time": "2022-06-01T14:21:39.978095",
     "exception": false,
     "start_time": "2022-06-01T14:21:29.483125",
     "status": "completed"
    },
    "tags": []
   },
   "outputs": [
    {
     "name": "stderr",
     "output_type": "stream",
     "text": [
      "/var/folders/_0/q_sx58p90kx486zxqr8s93tm0000gn/T/ipykernel_35074/3692936169.py:2: DtypeWarning: Columns (26) have mixed types. Specify dtype option on import or set low_memory=False.\n",
      "  Process_Data = pd.read_csv('Traffic_Violations.csv')\n"
     ]
    },
    {
     "data": {
      "text/html": [
       "<div>\n",
       "<style scoped>\n",
       "    .dataframe tbody tr th:only-of-type {\n",
       "        vertical-align: middle;\n",
       "    }\n",
       "\n",
       "    .dataframe tbody tr th {\n",
       "        vertical-align: top;\n",
       "    }\n",
       "\n",
       "    .dataframe thead th {\n",
       "        text-align: right;\n",
       "    }\n",
       "</style>\n",
       "<table border=\"1\" class=\"dataframe\">\n",
       "  <thead>\n",
       "    <tr style=\"text-align: right;\">\n",
       "      <th></th>\n",
       "      <th>Date Of Stop</th>\n",
       "      <th>Time Of Stop</th>\n",
       "      <th>Agency</th>\n",
       "      <th>SubAgency</th>\n",
       "      <th>Description</th>\n",
       "      <th>Location</th>\n",
       "      <th>Latitude</th>\n",
       "      <th>Longitude</th>\n",
       "      <th>Accident</th>\n",
       "      <th>Belts</th>\n",
       "      <th>...</th>\n",
       "      <th>Charge</th>\n",
       "      <th>Article</th>\n",
       "      <th>Contributed To Accident</th>\n",
       "      <th>Race</th>\n",
       "      <th>Gender</th>\n",
       "      <th>Driver City</th>\n",
       "      <th>Driver State</th>\n",
       "      <th>DL State</th>\n",
       "      <th>Arrest Type</th>\n",
       "      <th>Geolocation</th>\n",
       "    </tr>\n",
       "  </thead>\n",
       "  <tbody>\n",
       "    <tr>\n",
       "      <th>1</th>\n",
       "      <td>12/20/2012</td>\n",
       "      <td>00:41:00</td>\n",
       "      <td>MCP</td>\n",
       "      <td>2nd district, Bethesda</td>\n",
       "      <td>DRIVING WHILE IMPAIRED BY ALCOHOL</td>\n",
       "      <td>NORFOLK AVE /  ST ELMO AVE</td>\n",
       "      <td>38.983578</td>\n",
       "      <td>-77.093105</td>\n",
       "      <td>No</td>\n",
       "      <td>No</td>\n",
       "      <td>...</td>\n",
       "      <td>21-902(b1)</td>\n",
       "      <td>Transportation Article</td>\n",
       "      <td>No</td>\n",
       "      <td>WHITE</td>\n",
       "      <td>M</td>\n",
       "      <td>DERWOOD</td>\n",
       "      <td>MD</td>\n",
       "      <td>MD</td>\n",
       "      <td>A - Marked Patrol</td>\n",
       "      <td>(38.9835782, -77.09310515)</td>\n",
       "    </tr>\n",
       "    <tr>\n",
       "      <th>2</th>\n",
       "      <td>07/20/2012</td>\n",
       "      <td>23:12:00</td>\n",
       "      <td>MCP</td>\n",
       "      <td>5th district, Germantown</td>\n",
       "      <td>FAILURE TO STOP AT STOP SIGN</td>\n",
       "      <td>WISTERIA DR @ WARING STATION RD</td>\n",
       "      <td>39.161810</td>\n",
       "      <td>-77.253581</td>\n",
       "      <td>No</td>\n",
       "      <td>No</td>\n",
       "      <td>...</td>\n",
       "      <td>21-707(a)</td>\n",
       "      <td>Transportation Article</td>\n",
       "      <td>No</td>\n",
       "      <td>ASIAN</td>\n",
       "      <td>F</td>\n",
       "      <td>GERMANTOWN</td>\n",
       "      <td>MD</td>\n",
       "      <td>MD</td>\n",
       "      <td>A - Marked Patrol</td>\n",
       "      <td>(39.1618098166667, -77.25358095)</td>\n",
       "    </tr>\n",
       "    <tr>\n",
       "      <th>3</th>\n",
       "      <td>03/19/2012</td>\n",
       "      <td>16:10:00</td>\n",
       "      <td>MCP</td>\n",
       "      <td>2nd district, Bethesda</td>\n",
       "      <td>DRIVER USING HANDS TO USE HANDHELD TELEPHONE W...</td>\n",
       "      <td>CLARENDON RD @ ELM ST. N/</td>\n",
       "      <td>38.982731</td>\n",
       "      <td>-77.100755</td>\n",
       "      <td>No</td>\n",
       "      <td>No</td>\n",
       "      <td>...</td>\n",
       "      <td>21-1124.2(d2)</td>\n",
       "      <td>Transportation Article</td>\n",
       "      <td>No</td>\n",
       "      <td>HISPANIC</td>\n",
       "      <td>M</td>\n",
       "      <td>ARLINGTON</td>\n",
       "      <td>VA</td>\n",
       "      <td>VA</td>\n",
       "      <td>A - Marked Patrol</td>\n",
       "      <td>(38.9827307333333, -77.1007551666667)</td>\n",
       "    </tr>\n",
       "    <tr>\n",
       "      <th>4</th>\n",
       "      <td>12/01/2014</td>\n",
       "      <td>12:52:00</td>\n",
       "      <td>MCP</td>\n",
       "      <td>6th district, Gaithersburg / Montgomery Village</td>\n",
       "      <td>FAILURE STOP AND YIELD AT THRU HWY</td>\n",
       "      <td>CHRISTOPHER AVE/MONTGOMERY VILLAGE AVE</td>\n",
       "      <td>39.162888</td>\n",
       "      <td>-77.229088</td>\n",
       "      <td>No</td>\n",
       "      <td>No</td>\n",
       "      <td>...</td>\n",
       "      <td>21-403(b)</td>\n",
       "      <td>Transportation Article</td>\n",
       "      <td>No</td>\n",
       "      <td>BLACK</td>\n",
       "      <td>F</td>\n",
       "      <td>UPPER MARLBORO</td>\n",
       "      <td>MD</td>\n",
       "      <td>MD</td>\n",
       "      <td>A - Marked Patrol</td>\n",
       "      <td>(39.1628883333333, -77.2290883333333)</td>\n",
       "    </tr>\n",
       "    <tr>\n",
       "      <th>5</th>\n",
       "      <td>06/09/2012</td>\n",
       "      <td>21:19:00</td>\n",
       "      <td>MCP</td>\n",
       "      <td>3rd district, Silver Spring</td>\n",
       "      <td>OCCUPANT UNDER 16 NOT RESTRAINED BY SEATBELT</td>\n",
       "      <td>2068 HARLEQUIN TERRACE</td>\n",
       "      <td>39.069143</td>\n",
       "      <td>-76.969678</td>\n",
       "      <td>No</td>\n",
       "      <td>No</td>\n",
       "      <td>...</td>\n",
       "      <td>22-412.3(b)</td>\n",
       "      <td>Transportation Article</td>\n",
       "      <td>No</td>\n",
       "      <td>WHITE</td>\n",
       "      <td>F</td>\n",
       "      <td>SILVER SPRING</td>\n",
       "      <td>MD</td>\n",
       "      <td>MD</td>\n",
       "      <td>A - Marked Patrol</td>\n",
       "      <td>(39.06914295, -76.9696780666667)</td>\n",
       "    </tr>\n",
       "    <tr>\n",
       "      <th>...</th>\n",
       "      <td>...</td>\n",
       "      <td>...</td>\n",
       "      <td>...</td>\n",
       "      <td>...</td>\n",
       "      <td>...</td>\n",
       "      <td>...</td>\n",
       "      <td>...</td>\n",
       "      <td>...</td>\n",
       "      <td>...</td>\n",
       "      <td>...</td>\n",
       "      <td>...</td>\n",
       "      <td>...</td>\n",
       "      <td>...</td>\n",
       "      <td>...</td>\n",
       "      <td>...</td>\n",
       "      <td>...</td>\n",
       "      <td>...</td>\n",
       "      <td>...</td>\n",
       "      <td>...</td>\n",
       "      <td>...</td>\n",
       "      <td>...</td>\n",
       "    </tr>\n",
       "    <tr>\n",
       "      <th>1018629</th>\n",
       "      <td>12/22/2016</td>\n",
       "      <td>23:27:00</td>\n",
       "      <td>MCP</td>\n",
       "      <td>2nd district, Bethesda</td>\n",
       "      <td>WINDOW TINT</td>\n",
       "      <td>2445 LYTTONSVILLE RD</td>\n",
       "      <td>38.999260</td>\n",
       "      <td>-77.052685</td>\n",
       "      <td>No</td>\n",
       "      <td>No</td>\n",
       "      <td>...</td>\n",
       "      <td>61</td>\n",
       "      <td>NaN</td>\n",
       "      <td>No</td>\n",
       "      <td>BLACK</td>\n",
       "      <td>F</td>\n",
       "      <td>SILVER SPRING</td>\n",
       "      <td>MD</td>\n",
       "      <td>MD</td>\n",
       "      <td>A - Marked Patrol</td>\n",
       "      <td>(38.99926, -77.052685)</td>\n",
       "    </tr>\n",
       "    <tr>\n",
       "      <th>1018630</th>\n",
       "      <td>12/20/2016</td>\n",
       "      <td>12:01:00</td>\n",
       "      <td>MCP</td>\n",
       "      <td>3rd district, Silver Spring</td>\n",
       "      <td>STOP LIGHTS (*)</td>\n",
       "      <td>UNIVERSITY BLVD E / E. MELBOURNE AVE</td>\n",
       "      <td>39.010112</td>\n",
       "      <td>-77.000582</td>\n",
       "      <td>No</td>\n",
       "      <td>No</td>\n",
       "      <td>...</td>\n",
       "      <td>64*</td>\n",
       "      <td>NaN</td>\n",
       "      <td>No</td>\n",
       "      <td>BLACK</td>\n",
       "      <td>F</td>\n",
       "      <td>SILVER SPRING</td>\n",
       "      <td>MD</td>\n",
       "      <td>MD</td>\n",
       "      <td>A - Marked Patrol</td>\n",
       "      <td>(39.0101116666667, -77.0005816666667)</td>\n",
       "    </tr>\n",
       "    <tr>\n",
       "      <th>1018631</th>\n",
       "      <td>12/21/2016</td>\n",
       "      <td>02:11:00</td>\n",
       "      <td>MCP</td>\n",
       "      <td>4th district, Wheaton</td>\n",
       "      <td>STOP LIGHTS (*)</td>\n",
       "      <td>GEORGIA  AVE / RANDOLPH RD</td>\n",
       "      <td>39.058475</td>\n",
       "      <td>-77.049772</td>\n",
       "      <td>No</td>\n",
       "      <td>Yes</td>\n",
       "      <td>...</td>\n",
       "      <td>64*</td>\n",
       "      <td>NaN</td>\n",
       "      <td>No</td>\n",
       "      <td>BLACK</td>\n",
       "      <td>F</td>\n",
       "      <td>UPPER MARLBORO</td>\n",
       "      <td>MD</td>\n",
       "      <td>MD</td>\n",
       "      <td>A - Marked Patrol</td>\n",
       "      <td>(39.058475, -77.0497716666667)</td>\n",
       "    </tr>\n",
       "    <tr>\n",
       "      <th>1018632</th>\n",
       "      <td>12/26/2016</td>\n",
       "      <td>08:07:00</td>\n",
       "      <td>MCP</td>\n",
       "      <td>4th district, Wheaton</td>\n",
       "      <td>HEADLIGHTS (*)</td>\n",
       "      <td>GEORGIA AVE/DENNIS AVE</td>\n",
       "      <td>39.025122</td>\n",
       "      <td>-77.046552</td>\n",
       "      <td>No</td>\n",
       "      <td>No</td>\n",
       "      <td>...</td>\n",
       "      <td>55*</td>\n",
       "      <td>NaN</td>\n",
       "      <td>No</td>\n",
       "      <td>HISPANIC</td>\n",
       "      <td>M</td>\n",
       "      <td>SILVER SPRING</td>\n",
       "      <td>MD</td>\n",
       "      <td>MD</td>\n",
       "      <td>A - Marked Patrol</td>\n",
       "      <td>(39.0251216666667, -77.0465516666667)</td>\n",
       "    </tr>\n",
       "    <tr>\n",
       "      <th>1018633</th>\n",
       "      <td>12/27/2016</td>\n",
       "      <td>22:15:00</td>\n",
       "      <td>MCP</td>\n",
       "      <td>6th district, Gaithersburg / Montgomery Village</td>\n",
       "      <td>HEADLIGHTS (*)</td>\n",
       "      <td>GREAT SENECA HWY / SAM EIG HWY</td>\n",
       "      <td>39.109117</td>\n",
       "      <td>-77.213755</td>\n",
       "      <td>No</td>\n",
       "      <td>No</td>\n",
       "      <td>...</td>\n",
       "      <td>55*</td>\n",
       "      <td>NaN</td>\n",
       "      <td>No</td>\n",
       "      <td>BLACK</td>\n",
       "      <td>M</td>\n",
       "      <td>ROCKVILLE</td>\n",
       "      <td>MD</td>\n",
       "      <td>MD</td>\n",
       "      <td>A - Marked Patrol</td>\n",
       "      <td>(39.1091166666667, -77.213755)</td>\n",
       "    </tr>\n",
       "  </tbody>\n",
       "</table>\n",
       "<p>933599 rows × 35 columns</p>\n",
       "</div>"
      ],
      "text/plain": [
       "        Date Of Stop Time Of Stop Agency  \\\n",
       "1         12/20/2012     00:41:00    MCP   \n",
       "2         07/20/2012     23:12:00    MCP   \n",
       "3         03/19/2012     16:10:00    MCP   \n",
       "4         12/01/2014     12:52:00    MCP   \n",
       "5         06/09/2012     21:19:00    MCP   \n",
       "...              ...          ...    ...   \n",
       "1018629   12/22/2016     23:27:00    MCP   \n",
       "1018630   12/20/2016     12:01:00    MCP   \n",
       "1018631   12/21/2016     02:11:00    MCP   \n",
       "1018632   12/26/2016     08:07:00    MCP   \n",
       "1018633   12/27/2016     22:15:00    MCP   \n",
       "\n",
       "                                               SubAgency  \\\n",
       "1                                 2nd district, Bethesda   \n",
       "2                               5th district, Germantown   \n",
       "3                                 2nd district, Bethesda   \n",
       "4        6th district, Gaithersburg / Montgomery Village   \n",
       "5                            3rd district, Silver Spring   \n",
       "...                                                  ...   \n",
       "1018629                           2nd district, Bethesda   \n",
       "1018630                      3rd district, Silver Spring   \n",
       "1018631                            4th district, Wheaton   \n",
       "1018632                            4th district, Wheaton   \n",
       "1018633  6th district, Gaithersburg / Montgomery Village   \n",
       "\n",
       "                                               Description  \\\n",
       "1                        DRIVING WHILE IMPAIRED BY ALCOHOL   \n",
       "2                             FAILURE TO STOP AT STOP SIGN   \n",
       "3        DRIVER USING HANDS TO USE HANDHELD TELEPHONE W...   \n",
       "4                       FAILURE STOP AND YIELD AT THRU HWY   \n",
       "5             OCCUPANT UNDER 16 NOT RESTRAINED BY SEATBELT   \n",
       "...                                                    ...   \n",
       "1018629                                        WINDOW TINT   \n",
       "1018630                                    STOP LIGHTS (*)   \n",
       "1018631                                    STOP LIGHTS (*)   \n",
       "1018632                                     HEADLIGHTS (*)   \n",
       "1018633                                     HEADLIGHTS (*)   \n",
       "\n",
       "                                       Location   Latitude  Longitude  \\\n",
       "1                    NORFOLK AVE /  ST ELMO AVE  38.983578 -77.093105   \n",
       "2               WISTERIA DR @ WARING STATION RD  39.161810 -77.253581   \n",
       "3                     CLARENDON RD @ ELM ST. N/  38.982731 -77.100755   \n",
       "4        CHRISTOPHER AVE/MONTGOMERY VILLAGE AVE  39.162888 -77.229088   \n",
       "5                        2068 HARLEQUIN TERRACE  39.069143 -76.969678   \n",
       "...                                         ...        ...        ...   \n",
       "1018629                    2445 LYTTONSVILLE RD  38.999260 -77.052685   \n",
       "1018630    UNIVERSITY BLVD E / E. MELBOURNE AVE  39.010112 -77.000582   \n",
       "1018631              GEORGIA  AVE / RANDOLPH RD  39.058475 -77.049772   \n",
       "1018632                  GEORGIA AVE/DENNIS AVE  39.025122 -77.046552   \n",
       "1018633          GREAT SENECA HWY / SAM EIG HWY  39.109117 -77.213755   \n",
       "\n",
       "        Accident Belts  ...         Charge                 Article  \\\n",
       "1             No    No  ...     21-902(b1)  Transportation Article   \n",
       "2             No    No  ...      21-707(a)  Transportation Article   \n",
       "3             No    No  ...  21-1124.2(d2)  Transportation Article   \n",
       "4             No    No  ...      21-403(b)  Transportation Article   \n",
       "5             No    No  ...    22-412.3(b)  Transportation Article   \n",
       "...          ...   ...  ...            ...                     ...   \n",
       "1018629       No    No  ...             61                     NaN   \n",
       "1018630       No    No  ...            64*                     NaN   \n",
       "1018631       No   Yes  ...            64*                     NaN   \n",
       "1018632       No    No  ...            55*                     NaN   \n",
       "1018633       No    No  ...            55*                     NaN   \n",
       "\n",
       "        Contributed To Accident      Race Gender     Driver City Driver State  \\\n",
       "1                            No     WHITE      M         DERWOOD           MD   \n",
       "2                            No     ASIAN      F      GERMANTOWN           MD   \n",
       "3                            No  HISPANIC      M       ARLINGTON           VA   \n",
       "4                            No     BLACK      F  UPPER MARLBORO           MD   \n",
       "5                            No     WHITE      F   SILVER SPRING           MD   \n",
       "...                         ...       ...    ...             ...          ...   \n",
       "1018629                      No     BLACK      F   SILVER SPRING           MD   \n",
       "1018630                      No     BLACK      F   SILVER SPRING           MD   \n",
       "1018631                      No     BLACK      F  UPPER MARLBORO           MD   \n",
       "1018632                      No  HISPANIC      M   SILVER SPRING           MD   \n",
       "1018633                      No     BLACK      M       ROCKVILLE           MD   \n",
       "\n",
       "        DL State        Arrest Type                            Geolocation  \n",
       "1             MD  A - Marked Patrol             (38.9835782, -77.09310515)  \n",
       "2             MD  A - Marked Patrol       (39.1618098166667, -77.25358095)  \n",
       "3             VA  A - Marked Patrol  (38.9827307333333, -77.1007551666667)  \n",
       "4             MD  A - Marked Patrol  (39.1628883333333, -77.2290883333333)  \n",
       "5             MD  A - Marked Patrol       (39.06914295, -76.9696780666667)  \n",
       "...          ...                ...                                    ...  \n",
       "1018629       MD  A - Marked Patrol                 (38.99926, -77.052685)  \n",
       "1018630       MD  A - Marked Patrol  (39.0101116666667, -77.0005816666667)  \n",
       "1018631       MD  A - Marked Patrol         (39.058475, -77.0497716666667)  \n",
       "1018632       MD  A - Marked Patrol  (39.0251216666667, -77.0465516666667)  \n",
       "1018633       MD  A - Marked Patrol         (39.1091166666667, -77.213755)  \n",
       "\n",
       "[933599 rows x 35 columns]"
      ]
     },
     "metadata": {},
     "output_type": "display_data"
    }
   ],
   "source": [
    "#Filter out data without geolocation (Longitude and Latitude)\n",
    "Process_Data = pd.read_csv('Traffic_Violations.csv')\n",
    "Process_Data = Process_Data.dropna(subset=['Longitude', 'Latitude'])\n",
    "\n",
    "#Process_Data = Process_Data[Process_Data['State'].isin(['WA']) ] \n",
    "\n",
    "#Save dataframe as new csv\n",
    "Process_Data.to_csv(pathlib.Path(\".\", \"Traffic_Violations_Final.csv\").resolve())\n",
    "#Process_Data.to_csv(r'C:\\Users\\KEVAL\\Desktop\\DataEngineering_CapstoneProject\\Traffic_Violations_Final.csv')\n",
    "\n",
    "#Show Process_Data\n",
    "display(Process_Data)"
   ]
  },
  {
   "cell_type": "code",
   "execution_count": 7,
   "id": "aa7dc371",
   "metadata": {
    "execution": {
     "iopub.execute_input": "2022-06-01T14:21:39.984689Z",
     "iopub.status.busy": "2022-06-01T14:21:39.984569Z",
     "iopub.status.idle": "2022-06-01T14:21:39.987754Z",
     "shell.execute_reply": "2022-06-01T14:21:39.987535Z"
    },
    "papermill": {
     "duration": 0.007264,
     "end_time": "2022-06-01T14:21:39.988656",
     "exception": false,
     "start_time": "2022-06-01T14:21:39.981392",
     "status": "completed"
    },
    "tags": []
   },
   "outputs": [],
   "source": [
    "class Dataset:\n",
    "    def __init__(self, csv_filename):\n",
    "        self.dataset = pd.read_csv(csv_filename, dtype='unicode')\n",
    "        filecheck(csv_filename)\n",
    "    \n",
    "    def __generateMetrics(self, subset, columns):\n",
    "        numberOfRows = len(subset)\n",
    "        numberOfColumns = len(columns)\n",
    "        output = \"Number of Rows: {}\\n\".format(numberOfRows) + \"Number of Columns: {}\\n\".format(numberOfColumns) \n",
    "        return output\n",
    "        \n",
    "    def generate_subset(self, table_name, columns):\n",
    "        test_data = self.dataset[columns]\n",
    "        try:\n",
    "            path = os.path.join('exported', table_name)\n",
    "            test_data.to_csv(path+'.csv')\n",
    "            #Check if csv file was made\n",
    "            filecheck(path+'csv')\n",
    "            with open(path+'_metrics.txt', 'w') as file:\n",
    "                file.write(self.__generateMetrics(test_data, columns))\n",
    "                #Check if the metrics file was made\n",
    "                filecheck(path+'_metrics.txt')\n",
    "        except Exception as e:\n",
    "            logging.error(e)\n",
    "            print(e)\n",
    "            return\n",
    "        return test_data.head()\n"
   ]
  },
  {
   "cell_type": "code",
   "execution_count": 8,
   "id": "b3efa75c",
   "metadata": {
    "execution": {
     "iopub.execute_input": "2022-06-01T14:21:39.994271Z",
     "iopub.status.busy": "2022-06-01T14:21:39.994153Z",
     "iopub.status.idle": "2022-06-01T14:21:42.867087Z",
     "shell.execute_reply": "2022-06-01T14:21:42.866749Z"
    },
    "papermill": {
     "duration": 2.876896,
     "end_time": "2022-06-01T14:21:42.868131",
     "exception": false,
     "start_time": "2022-06-01T14:21:39.991235",
     "status": "completed"
    },
    "tags": []
   },
   "outputs": [],
   "source": [
    "traffic_data = Dataset(\"Traffic_Violations_Final.csv\")"
   ]
  },
  {
   "cell_type": "code",
   "execution_count": 9,
   "id": "a8fd8952",
   "metadata": {
    "execution": {
     "iopub.execute_input": "2022-06-01T14:21:42.874125Z",
     "iopub.status.busy": "2022-06-01T14:21:42.874005Z",
     "iopub.status.idle": "2022-06-01T14:21:45.443807Z",
     "shell.execute_reply": "2022-06-01T14:21:45.443539Z"
    },
    "papermill": {
     "duration": 2.573771,
     "end_time": "2022-06-01T14:21:45.444701",
     "exception": false,
     "start_time": "2022-06-01T14:21:42.870930",
     "status": "completed"
    },
    "scrolled": true,
    "tags": []
   },
   "outputs": [
    {
     "data": {
      "text/html": [
       "<div>\n",
       "<style scoped>\n",
       "    .dataframe tbody tr th:only-of-type {\n",
       "        vertical-align: middle;\n",
       "    }\n",
       "\n",
       "    .dataframe tbody tr th {\n",
       "        vertical-align: top;\n",
       "    }\n",
       "\n",
       "    .dataframe thead th {\n",
       "        text-align: right;\n",
       "    }\n",
       "</style>\n",
       "<table border=\"1\" class=\"dataframe\">\n",
       "  <thead>\n",
       "    <tr style=\"text-align: right;\">\n",
       "      <th></th>\n",
       "      <th>Arrest Type</th>\n",
       "      <th>Description</th>\n",
       "      <th>State</th>\n",
       "      <th>Violation Type</th>\n",
       "      <th>Charge</th>\n",
       "      <th>Article</th>\n",
       "      <th>Contributed To Accident</th>\n",
       "      <th>Longitude</th>\n",
       "      <th>Latitude</th>\n",
       "    </tr>\n",
       "  </thead>\n",
       "  <tbody>\n",
       "    <tr>\n",
       "      <th>0</th>\n",
       "      <td>A - Marked Patrol</td>\n",
       "      <td>DRIVING WHILE IMPAIRED BY ALCOHOL</td>\n",
       "      <td>MD</td>\n",
       "      <td>Citation</td>\n",
       "      <td>21-902(b1)</td>\n",
       "      <td>Transportation Article</td>\n",
       "      <td>No</td>\n",
       "      <td>-77.09310515</td>\n",
       "      <td>38.9835782</td>\n",
       "    </tr>\n",
       "    <tr>\n",
       "      <th>1</th>\n",
       "      <td>A - Marked Patrol</td>\n",
       "      <td>FAILURE TO STOP AT STOP SIGN</td>\n",
       "      <td>MD</td>\n",
       "      <td>Citation</td>\n",
       "      <td>21-707(a)</td>\n",
       "      <td>Transportation Article</td>\n",
       "      <td>No</td>\n",
       "      <td>-77.25358095</td>\n",
       "      <td>39.1618098166667</td>\n",
       "    </tr>\n",
       "    <tr>\n",
       "      <th>2</th>\n",
       "      <td>A - Marked Patrol</td>\n",
       "      <td>DRIVER USING HANDS TO USE HANDHELD TELEPHONE W...</td>\n",
       "      <td>VA</td>\n",
       "      <td>Citation</td>\n",
       "      <td>21-1124.2(d2)</td>\n",
       "      <td>Transportation Article</td>\n",
       "      <td>No</td>\n",
       "      <td>-77.1007551666667</td>\n",
       "      <td>38.9827307333333</td>\n",
       "    </tr>\n",
       "    <tr>\n",
       "      <th>3</th>\n",
       "      <td>A - Marked Patrol</td>\n",
       "      <td>FAILURE STOP AND YIELD AT THRU HWY</td>\n",
       "      <td>MD</td>\n",
       "      <td>Citation</td>\n",
       "      <td>21-403(b)</td>\n",
       "      <td>Transportation Article</td>\n",
       "      <td>No</td>\n",
       "      <td>-77.2290883333333</td>\n",
       "      <td>39.1628883333333</td>\n",
       "    </tr>\n",
       "    <tr>\n",
       "      <th>4</th>\n",
       "      <td>A - Marked Patrol</td>\n",
       "      <td>OCCUPANT UNDER 16 NOT RESTRAINED BY SEATBELT</td>\n",
       "      <td>MD</td>\n",
       "      <td>Citation</td>\n",
       "      <td>22-412.3(b)</td>\n",
       "      <td>Transportation Article</td>\n",
       "      <td>No</td>\n",
       "      <td>-76.9696780666667</td>\n",
       "      <td>39.06914295</td>\n",
       "    </tr>\n",
       "  </tbody>\n",
       "</table>\n",
       "</div>"
      ],
      "text/plain": [
       "         Arrest Type                                        Description State  \\\n",
       "0  A - Marked Patrol                  DRIVING WHILE IMPAIRED BY ALCOHOL    MD   \n",
       "1  A - Marked Patrol                       FAILURE TO STOP AT STOP SIGN    MD   \n",
       "2  A - Marked Patrol  DRIVER USING HANDS TO USE HANDHELD TELEPHONE W...    VA   \n",
       "3  A - Marked Patrol                 FAILURE STOP AND YIELD AT THRU HWY    MD   \n",
       "4  A - Marked Patrol       OCCUPANT UNDER 16 NOT RESTRAINED BY SEATBELT    MD   \n",
       "\n",
       "  Violation Type         Charge                 Article  \\\n",
       "0       Citation     21-902(b1)  Transportation Article   \n",
       "1       Citation      21-707(a)  Transportation Article   \n",
       "2       Citation  21-1124.2(d2)  Transportation Article   \n",
       "3       Citation      21-403(b)  Transportation Article   \n",
       "4       Citation    22-412.3(b)  Transportation Article   \n",
       "\n",
       "  Contributed To Accident          Longitude          Latitude  \n",
       "0                      No       -77.09310515        38.9835782  \n",
       "1                      No       -77.25358095  39.1618098166667  \n",
       "2                      No  -77.1007551666667  38.9827307333333  \n",
       "3                      No  -77.2290883333333  39.1628883333333  \n",
       "4                      No  -76.9696780666667       39.06914295  "
      ]
     },
     "execution_count": 9,
     "metadata": {},
     "output_type": "execute_result"
    }
   ],
   "source": [
    "traffic_data.generate_subset('Incident', ['Arrest Type', 'Description', 'State', 'Violation Type', 'Charge', 'Article', 'Contributed To Accident', 'Longitude', 'Latitude'])"
   ]
  },
  {
   "cell_type": "code",
   "execution_count": 10,
   "id": "6a8d587b",
   "metadata": {
    "execution": {
     "iopub.execute_input": "2022-06-01T14:21:45.450659Z",
     "iopub.status.busy": "2022-06-01T14:21:45.450540Z",
     "iopub.status.idle": "2022-06-01T14:21:47.052133Z",
     "shell.execute_reply": "2022-06-01T14:21:47.051903Z"
    },
    "papermill": {
     "duration": 1.605625,
     "end_time": "2022-06-01T14:21:47.053102",
     "exception": false,
     "start_time": "2022-06-01T14:21:45.447477",
     "status": "completed"
    },
    "tags": []
   },
   "outputs": [
    {
     "data": {
      "text/html": [
       "<div>\n",
       "<style scoped>\n",
       "    .dataframe tbody tr th:only-of-type {\n",
       "        vertical-align: middle;\n",
       "    }\n",
       "\n",
       "    .dataframe tbody tr th {\n",
       "        vertical-align: top;\n",
       "    }\n",
       "\n",
       "    .dataframe thead th {\n",
       "        text-align: right;\n",
       "    }\n",
       "</style>\n",
       "<table border=\"1\" class=\"dataframe\">\n",
       "  <thead>\n",
       "    <tr style=\"text-align: right;\">\n",
       "      <th></th>\n",
       "      <th>HAZMAT</th>\n",
       "      <th>Commercial License</th>\n",
       "      <th>Fatal</th>\n",
       "      <th>Property Damage</th>\n",
       "      <th>Personal Injury</th>\n",
       "      <th>Belts</th>\n",
       "      <th>Accident</th>\n",
       "      <th>Longitude</th>\n",
       "      <th>Latitude</th>\n",
       "    </tr>\n",
       "  </thead>\n",
       "  <tbody>\n",
       "    <tr>\n",
       "      <th>0</th>\n",
       "      <td>No</td>\n",
       "      <td>No</td>\n",
       "      <td>No</td>\n",
       "      <td>No</td>\n",
       "      <td>No</td>\n",
       "      <td>No</td>\n",
       "      <td>No</td>\n",
       "      <td>-77.09310515</td>\n",
       "      <td>38.9835782</td>\n",
       "    </tr>\n",
       "    <tr>\n",
       "      <th>1</th>\n",
       "      <td>No</td>\n",
       "      <td>No</td>\n",
       "      <td>No</td>\n",
       "      <td>No</td>\n",
       "      <td>No</td>\n",
       "      <td>No</td>\n",
       "      <td>No</td>\n",
       "      <td>-77.25358095</td>\n",
       "      <td>39.1618098166667</td>\n",
       "    </tr>\n",
       "    <tr>\n",
       "      <th>2</th>\n",
       "      <td>No</td>\n",
       "      <td>No</td>\n",
       "      <td>No</td>\n",
       "      <td>No</td>\n",
       "      <td>No</td>\n",
       "      <td>No</td>\n",
       "      <td>No</td>\n",
       "      <td>-77.1007551666667</td>\n",
       "      <td>38.9827307333333</td>\n",
       "    </tr>\n",
       "    <tr>\n",
       "      <th>3</th>\n",
       "      <td>No</td>\n",
       "      <td>No</td>\n",
       "      <td>No</td>\n",
       "      <td>Yes</td>\n",
       "      <td>No</td>\n",
       "      <td>No</td>\n",
       "      <td>No</td>\n",
       "      <td>-77.2290883333333</td>\n",
       "      <td>39.1628883333333</td>\n",
       "    </tr>\n",
       "    <tr>\n",
       "      <th>4</th>\n",
       "      <td>No</td>\n",
       "      <td>No</td>\n",
       "      <td>No</td>\n",
       "      <td>No</td>\n",
       "      <td>No</td>\n",
       "      <td>No</td>\n",
       "      <td>No</td>\n",
       "      <td>-76.9696780666667</td>\n",
       "      <td>39.06914295</td>\n",
       "    </tr>\n",
       "  </tbody>\n",
       "</table>\n",
       "</div>"
      ],
      "text/plain": [
       "  HAZMAT Commercial License Fatal Property Damage Personal Injury Belts  \\\n",
       "0     No                 No    No              No              No    No   \n",
       "1     No                 No    No              No              No    No   \n",
       "2     No                 No    No              No              No    No   \n",
       "3     No                 No    No             Yes              No    No   \n",
       "4     No                 No    No              No              No    No   \n",
       "\n",
       "  Accident          Longitude          Latitude  \n",
       "0       No       -77.09310515        38.9835782  \n",
       "1       No       -77.25358095  39.1618098166667  \n",
       "2       No  -77.1007551666667  38.9827307333333  \n",
       "3       No  -77.2290883333333  39.1628883333333  \n",
       "4       No  -76.9696780666667       39.06914295  "
      ]
     },
     "execution_count": 10,
     "metadata": {},
     "output_type": "execute_result"
    }
   ],
   "source": [
    "traffic_data.generate_subset('Report', ['HAZMAT', 'Commercial License', 'Fatal', 'Property Damage', 'Personal Injury', 'Belts', 'Accident','Longitude', 'Latitude'])"
   ]
  },
  {
   "cell_type": "code",
   "execution_count": 11,
   "id": "e0ad5b4f",
   "metadata": {
    "execution": {
     "iopub.execute_input": "2022-06-01T14:21:47.059331Z",
     "iopub.status.busy": "2022-06-01T14:21:47.059214Z",
     "iopub.status.idle": "2022-06-01T14:21:49.029039Z",
     "shell.execute_reply": "2022-06-01T14:21:49.028781Z"
    },
    "papermill": {
     "duration": 1.97385,
     "end_time": "2022-06-01T14:21:49.029925",
     "exception": false,
     "start_time": "2022-06-01T14:21:47.056075",
     "status": "completed"
    },
    "tags": []
   },
   "outputs": [
    {
     "data": {
      "text/html": [
       "<div>\n",
       "<style scoped>\n",
       "    .dataframe tbody tr th:only-of-type {\n",
       "        vertical-align: middle;\n",
       "    }\n",
       "\n",
       "    .dataframe tbody tr th {\n",
       "        vertical-align: top;\n",
       "    }\n",
       "\n",
       "    .dataframe thead th {\n",
       "        text-align: right;\n",
       "    }\n",
       "</style>\n",
       "<table border=\"1\" class=\"dataframe\">\n",
       "  <thead>\n",
       "    <tr style=\"text-align: right;\">\n",
       "      <th></th>\n",
       "      <th>Date Of Stop</th>\n",
       "      <th>Time Of Stop</th>\n",
       "      <th>Location</th>\n",
       "      <th>Latitude</th>\n",
       "      <th>Longitude</th>\n",
       "      <th>Geolocation</th>\n",
       "    </tr>\n",
       "  </thead>\n",
       "  <tbody>\n",
       "    <tr>\n",
       "      <th>0</th>\n",
       "      <td>12/20/2012</td>\n",
       "      <td>00:41:00</td>\n",
       "      <td>NORFOLK AVE /  ST ELMO AVE</td>\n",
       "      <td>38.9835782</td>\n",
       "      <td>-77.09310515</td>\n",
       "      <td>(38.9835782, -77.09310515)</td>\n",
       "    </tr>\n",
       "    <tr>\n",
       "      <th>1</th>\n",
       "      <td>07/20/2012</td>\n",
       "      <td>23:12:00</td>\n",
       "      <td>WISTERIA DR @ WARING STATION RD</td>\n",
       "      <td>39.1618098166667</td>\n",
       "      <td>-77.25358095</td>\n",
       "      <td>(39.1618098166667, -77.25358095)</td>\n",
       "    </tr>\n",
       "    <tr>\n",
       "      <th>2</th>\n",
       "      <td>03/19/2012</td>\n",
       "      <td>16:10:00</td>\n",
       "      <td>CLARENDON RD @ ELM ST. N/</td>\n",
       "      <td>38.9827307333333</td>\n",
       "      <td>-77.1007551666667</td>\n",
       "      <td>(38.9827307333333, -77.1007551666667)</td>\n",
       "    </tr>\n",
       "    <tr>\n",
       "      <th>3</th>\n",
       "      <td>12/01/2014</td>\n",
       "      <td>12:52:00</td>\n",
       "      <td>CHRISTOPHER AVE/MONTGOMERY VILLAGE AVE</td>\n",
       "      <td>39.1628883333333</td>\n",
       "      <td>-77.2290883333333</td>\n",
       "      <td>(39.1628883333333, -77.2290883333333)</td>\n",
       "    </tr>\n",
       "    <tr>\n",
       "      <th>4</th>\n",
       "      <td>06/09/2012</td>\n",
       "      <td>21:19:00</td>\n",
       "      <td>2068 HARLEQUIN TERRACE</td>\n",
       "      <td>39.06914295</td>\n",
       "      <td>-76.9696780666667</td>\n",
       "      <td>(39.06914295, -76.9696780666667)</td>\n",
       "    </tr>\n",
       "  </tbody>\n",
       "</table>\n",
       "</div>"
      ],
      "text/plain": [
       "  Date Of Stop Time Of Stop                                Location  \\\n",
       "0   12/20/2012     00:41:00              NORFOLK AVE /  ST ELMO AVE   \n",
       "1   07/20/2012     23:12:00         WISTERIA DR @ WARING STATION RD   \n",
       "2   03/19/2012     16:10:00               CLARENDON RD @ ELM ST. N/   \n",
       "3   12/01/2014     12:52:00  CHRISTOPHER AVE/MONTGOMERY VILLAGE AVE   \n",
       "4   06/09/2012     21:19:00                  2068 HARLEQUIN TERRACE   \n",
       "\n",
       "           Latitude          Longitude                            Geolocation  \n",
       "0        38.9835782       -77.09310515             (38.9835782, -77.09310515)  \n",
       "1  39.1618098166667       -77.25358095       (39.1618098166667, -77.25358095)  \n",
       "2  38.9827307333333  -77.1007551666667  (38.9827307333333, -77.1007551666667)  \n",
       "3  39.1628883333333  -77.2290883333333  (39.1628883333333, -77.2290883333333)  \n",
       "4       39.06914295  -76.9696780666667       (39.06914295, -76.9696780666667)  "
      ]
     },
     "execution_count": 11,
     "metadata": {},
     "output_type": "execute_result"
    }
   ],
   "source": [
    "traffic_data.generate_subset('Time', ['Date Of Stop', 'Time Of Stop', 'Location', 'Latitude', 'Longitude', 'Geolocation'])"
   ]
  },
  {
   "cell_type": "code",
   "execution_count": 12,
   "id": "8f2f78a0",
   "metadata": {
    "execution": {
     "iopub.execute_input": "2022-06-01T14:21:49.036330Z",
     "iopub.status.busy": "2022-06-01T14:21:49.036139Z",
     "iopub.status.idle": "2022-06-01T14:21:50.087053Z",
     "shell.execute_reply": "2022-06-01T14:21:50.086796Z"
    },
    "papermill": {
     "duration": 1.05509,
     "end_time": "2022-06-01T14:21:50.087959",
     "exception": false,
     "start_time": "2022-06-01T14:21:49.032869",
     "status": "completed"
    },
    "tags": []
   },
   "outputs": [
    {
     "data": {
      "text/html": [
       "<div>\n",
       "<style scoped>\n",
       "    .dataframe tbody tr th:only-of-type {\n",
       "        vertical-align: middle;\n",
       "    }\n",
       "\n",
       "    .dataframe tbody tr th {\n",
       "        vertical-align: top;\n",
       "    }\n",
       "\n",
       "    .dataframe thead th {\n",
       "        text-align: right;\n",
       "    }\n",
       "</style>\n",
       "<table border=\"1\" class=\"dataframe\">\n",
       "  <thead>\n",
       "    <tr style=\"text-align: right;\">\n",
       "      <th></th>\n",
       "      <th>Agency</th>\n",
       "      <th>Longitude</th>\n",
       "      <th>Latitude</th>\n",
       "    </tr>\n",
       "  </thead>\n",
       "  <tbody>\n",
       "    <tr>\n",
       "      <th>0</th>\n",
       "      <td>MCP</td>\n",
       "      <td>-77.09310515</td>\n",
       "      <td>38.9835782</td>\n",
       "    </tr>\n",
       "    <tr>\n",
       "      <th>1</th>\n",
       "      <td>MCP</td>\n",
       "      <td>-77.25358095</td>\n",
       "      <td>39.1618098166667</td>\n",
       "    </tr>\n",
       "    <tr>\n",
       "      <th>2</th>\n",
       "      <td>MCP</td>\n",
       "      <td>-77.1007551666667</td>\n",
       "      <td>38.9827307333333</td>\n",
       "    </tr>\n",
       "    <tr>\n",
       "      <th>3</th>\n",
       "      <td>MCP</td>\n",
       "      <td>-77.2290883333333</td>\n",
       "      <td>39.1628883333333</td>\n",
       "    </tr>\n",
       "    <tr>\n",
       "      <th>4</th>\n",
       "      <td>MCP</td>\n",
       "      <td>-76.9696780666667</td>\n",
       "      <td>39.06914295</td>\n",
       "    </tr>\n",
       "  </tbody>\n",
       "</table>\n",
       "</div>"
      ],
      "text/plain": [
       "  Agency          Longitude          Latitude\n",
       "0    MCP       -77.09310515        38.9835782\n",
       "1    MCP       -77.25358095  39.1618098166667\n",
       "2    MCP  -77.1007551666667  38.9827307333333\n",
       "3    MCP  -77.2290883333333  39.1628883333333\n",
       "4    MCP  -76.9696780666667       39.06914295"
      ]
     },
     "execution_count": 12,
     "metadata": {},
     "output_type": "execute_result"
    }
   ],
   "source": [
    "traffic_data.generate_subset('Agency', ['Agency','Longitude', 'Latitude'])"
   ]
  },
  {
   "cell_type": "code",
   "execution_count": 13,
   "id": "6dec09ed",
   "metadata": {
    "execution": {
     "iopub.execute_input": "2022-06-01T14:21:50.094453Z",
     "iopub.status.busy": "2022-06-01T14:21:50.094341Z",
     "iopub.status.idle": "2022-06-01T14:21:51.350486Z",
     "shell.execute_reply": "2022-06-01T14:21:51.350214Z"
    },
    "papermill": {
     "duration": 1.260365,
     "end_time": "2022-06-01T14:21:51.351402",
     "exception": false,
     "start_time": "2022-06-01T14:21:50.091037",
     "status": "completed"
    },
    "tags": []
   },
   "outputs": [
    {
     "data": {
      "text/html": [
       "<div>\n",
       "<style scoped>\n",
       "    .dataframe tbody tr th:only-of-type {\n",
       "        vertical-align: middle;\n",
       "    }\n",
       "\n",
       "    .dataframe tbody tr th {\n",
       "        vertical-align: top;\n",
       "    }\n",
       "\n",
       "    .dataframe thead th {\n",
       "        text-align: right;\n",
       "    }\n",
       "</style>\n",
       "<table border=\"1\" class=\"dataframe\">\n",
       "  <thead>\n",
       "    <tr style=\"text-align: right;\">\n",
       "      <th></th>\n",
       "      <th>SubAgency</th>\n",
       "      <th>Longitude</th>\n",
       "      <th>Latitude</th>\n",
       "    </tr>\n",
       "  </thead>\n",
       "  <tbody>\n",
       "    <tr>\n",
       "      <th>0</th>\n",
       "      <td>2nd district, Bethesda</td>\n",
       "      <td>-77.09310515</td>\n",
       "      <td>38.9835782</td>\n",
       "    </tr>\n",
       "    <tr>\n",
       "      <th>1</th>\n",
       "      <td>5th district, Germantown</td>\n",
       "      <td>-77.25358095</td>\n",
       "      <td>39.1618098166667</td>\n",
       "    </tr>\n",
       "    <tr>\n",
       "      <th>2</th>\n",
       "      <td>2nd district, Bethesda</td>\n",
       "      <td>-77.1007551666667</td>\n",
       "      <td>38.9827307333333</td>\n",
       "    </tr>\n",
       "    <tr>\n",
       "      <th>3</th>\n",
       "      <td>6th district, Gaithersburg / Montgomery Village</td>\n",
       "      <td>-77.2290883333333</td>\n",
       "      <td>39.1628883333333</td>\n",
       "    </tr>\n",
       "    <tr>\n",
       "      <th>4</th>\n",
       "      <td>3rd district, Silver Spring</td>\n",
       "      <td>-76.9696780666667</td>\n",
       "      <td>39.06914295</td>\n",
       "    </tr>\n",
       "  </tbody>\n",
       "</table>\n",
       "</div>"
      ],
      "text/plain": [
       "                                         SubAgency          Longitude  \\\n",
       "0                           2nd district, Bethesda       -77.09310515   \n",
       "1                         5th district, Germantown       -77.25358095   \n",
       "2                           2nd district, Bethesda  -77.1007551666667   \n",
       "3  6th district, Gaithersburg / Montgomery Village  -77.2290883333333   \n",
       "4                      3rd district, Silver Spring  -76.9696780666667   \n",
       "\n",
       "           Latitude  \n",
       "0        38.9835782  \n",
       "1  39.1618098166667  \n",
       "2  38.9827307333333  \n",
       "3  39.1628883333333  \n",
       "4       39.06914295  "
      ]
     },
     "execution_count": 13,
     "metadata": {},
     "output_type": "execute_result"
    }
   ],
   "source": [
    "traffic_data.generate_subset('Subagency', ['SubAgency','Longitude', 'Latitude'])"
   ]
  },
  {
   "cell_type": "code",
   "execution_count": 14,
   "id": "027d28f3",
   "metadata": {
    "execution": {
     "iopub.execute_input": "2022-06-01T14:21:51.358093Z",
     "iopub.status.busy": "2022-06-01T14:21:51.357986Z",
     "iopub.status.idle": "2022-06-01T14:21:52.902697Z",
     "shell.execute_reply": "2022-06-01T14:21:52.902439Z"
    },
    "papermill": {
     "duration": 1.549038,
     "end_time": "2022-06-01T14:21:52.903623",
     "exception": false,
     "start_time": "2022-06-01T14:21:51.354585",
     "status": "completed"
    },
    "tags": []
   },
   "outputs": [
    {
     "data": {
      "text/html": [
       "<div>\n",
       "<style scoped>\n",
       "    .dataframe tbody tr th:only-of-type {\n",
       "        vertical-align: middle;\n",
       "    }\n",
       "\n",
       "    .dataframe tbody tr th {\n",
       "        vertical-align: top;\n",
       "    }\n",
       "\n",
       "    .dataframe thead th {\n",
       "        text-align: right;\n",
       "    }\n",
       "</style>\n",
       "<table border=\"1\" class=\"dataframe\">\n",
       "  <thead>\n",
       "    <tr style=\"text-align: right;\">\n",
       "      <th></th>\n",
       "      <th>DL State</th>\n",
       "      <th>Driver State</th>\n",
       "      <th>Driver City</th>\n",
       "      <th>Gender</th>\n",
       "      <th>Race</th>\n",
       "      <th>Longitude</th>\n",
       "      <th>Latitude</th>\n",
       "    </tr>\n",
       "  </thead>\n",
       "  <tbody>\n",
       "    <tr>\n",
       "      <th>0</th>\n",
       "      <td>MD</td>\n",
       "      <td>MD</td>\n",
       "      <td>DERWOOD</td>\n",
       "      <td>M</td>\n",
       "      <td>WHITE</td>\n",
       "      <td>-77.09310515</td>\n",
       "      <td>38.9835782</td>\n",
       "    </tr>\n",
       "    <tr>\n",
       "      <th>1</th>\n",
       "      <td>MD</td>\n",
       "      <td>MD</td>\n",
       "      <td>GERMANTOWN</td>\n",
       "      <td>F</td>\n",
       "      <td>ASIAN</td>\n",
       "      <td>-77.25358095</td>\n",
       "      <td>39.1618098166667</td>\n",
       "    </tr>\n",
       "    <tr>\n",
       "      <th>2</th>\n",
       "      <td>VA</td>\n",
       "      <td>VA</td>\n",
       "      <td>ARLINGTON</td>\n",
       "      <td>M</td>\n",
       "      <td>HISPANIC</td>\n",
       "      <td>-77.1007551666667</td>\n",
       "      <td>38.9827307333333</td>\n",
       "    </tr>\n",
       "    <tr>\n",
       "      <th>3</th>\n",
       "      <td>MD</td>\n",
       "      <td>MD</td>\n",
       "      <td>UPPER MARLBORO</td>\n",
       "      <td>F</td>\n",
       "      <td>BLACK</td>\n",
       "      <td>-77.2290883333333</td>\n",
       "      <td>39.1628883333333</td>\n",
       "    </tr>\n",
       "    <tr>\n",
       "      <th>4</th>\n",
       "      <td>MD</td>\n",
       "      <td>MD</td>\n",
       "      <td>SILVER SPRING</td>\n",
       "      <td>F</td>\n",
       "      <td>WHITE</td>\n",
       "      <td>-76.9696780666667</td>\n",
       "      <td>39.06914295</td>\n",
       "    </tr>\n",
       "  </tbody>\n",
       "</table>\n",
       "</div>"
      ],
      "text/plain": [
       "  DL State Driver State     Driver City Gender      Race          Longitude  \\\n",
       "0       MD           MD         DERWOOD      M     WHITE       -77.09310515   \n",
       "1       MD           MD      GERMANTOWN      F     ASIAN       -77.25358095   \n",
       "2       VA           VA       ARLINGTON      M  HISPANIC  -77.1007551666667   \n",
       "3       MD           MD  UPPER MARLBORO      F     BLACK  -77.2290883333333   \n",
       "4       MD           MD   SILVER SPRING      F     WHITE  -76.9696780666667   \n",
       "\n",
       "           Latitude  \n",
       "0        38.9835782  \n",
       "1  39.1618098166667  \n",
       "2  38.9827307333333  \n",
       "3  39.1628883333333  \n",
       "4       39.06914295  "
      ]
     },
     "execution_count": 14,
     "metadata": {},
     "output_type": "execute_result"
    }
   ],
   "source": [
    "traffic_data.generate_subset('Driver', ['DL State', 'Driver State', 'Driver City', 'Gender', 'Race','Longitude', 'Latitude'])"
   ]
  },
  {
   "cell_type": "code",
   "execution_count": 15,
   "id": "d44f838b",
   "metadata": {
    "execution": {
     "iopub.execute_input": "2022-06-01T14:21:52.910531Z",
     "iopub.status.busy": "2022-06-01T14:21:52.910412Z",
     "iopub.status.idle": "2022-06-01T14:21:54.570619Z",
     "shell.execute_reply": "2022-06-01T14:21:54.570345Z"
    },
    "papermill": {
     "duration": 1.664703,
     "end_time": "2022-06-01T14:21:54.571576",
     "exception": false,
     "start_time": "2022-06-01T14:21:52.906873",
     "status": "completed"
    },
    "tags": []
   },
   "outputs": [
    {
     "data": {
      "text/html": [
       "<div>\n",
       "<style scoped>\n",
       "    .dataframe tbody tr th:only-of-type {\n",
       "        vertical-align: middle;\n",
       "    }\n",
       "\n",
       "    .dataframe tbody tr th {\n",
       "        vertical-align: top;\n",
       "    }\n",
       "\n",
       "    .dataframe thead th {\n",
       "        text-align: right;\n",
       "    }\n",
       "</style>\n",
       "<table border=\"1\" class=\"dataframe\">\n",
       "  <thead>\n",
       "    <tr style=\"text-align: right;\">\n",
       "      <th></th>\n",
       "      <th>VehicleType</th>\n",
       "      <th>Make</th>\n",
       "      <th>Year</th>\n",
       "      <th>Model</th>\n",
       "      <th>Color</th>\n",
       "      <th>Longitude</th>\n",
       "      <th>Latitude</th>\n",
       "    </tr>\n",
       "  </thead>\n",
       "  <tbody>\n",
       "    <tr>\n",
       "      <th>0</th>\n",
       "      <td>02 - Automobile</td>\n",
       "      <td>AUDI</td>\n",
       "      <td>2005.0</td>\n",
       "      <td>4S</td>\n",
       "      <td>GRAY</td>\n",
       "      <td>-77.09310515</td>\n",
       "      <td>38.9835782</td>\n",
       "    </tr>\n",
       "    <tr>\n",
       "      <th>1</th>\n",
       "      <td>02 - Automobile</td>\n",
       "      <td>TOYT</td>\n",
       "      <td>2002.0</td>\n",
       "      <td>4S</td>\n",
       "      <td>RED</td>\n",
       "      <td>-77.25358095</td>\n",
       "      <td>39.1618098166667</td>\n",
       "    </tr>\n",
       "    <tr>\n",
       "      <th>2</th>\n",
       "      <td>02 - Automobile</td>\n",
       "      <td>HONDA</td>\n",
       "      <td>1996.0</td>\n",
       "      <td>CIVIC</td>\n",
       "      <td>SILVER</td>\n",
       "      <td>-77.1007551666667</td>\n",
       "      <td>38.9827307333333</td>\n",
       "    </tr>\n",
       "    <tr>\n",
       "      <th>3</th>\n",
       "      <td>02 - Automobile</td>\n",
       "      <td>HONDA</td>\n",
       "      <td>2001.0</td>\n",
       "      <td>ACCORD</td>\n",
       "      <td>SILVER</td>\n",
       "      <td>-77.2290883333333</td>\n",
       "      <td>39.1628883333333</td>\n",
       "    </tr>\n",
       "    <tr>\n",
       "      <th>4</th>\n",
       "      <td>02 - Automobile</td>\n",
       "      <td>CHEVROLET</td>\n",
       "      <td>2004.0</td>\n",
       "      <td>IMPALA</td>\n",
       "      <td>SILVER</td>\n",
       "      <td>-76.9696780666667</td>\n",
       "      <td>39.06914295</td>\n",
       "    </tr>\n",
       "  </tbody>\n",
       "</table>\n",
       "</div>"
      ],
      "text/plain": [
       "       VehicleType       Make    Year   Model   Color          Longitude  \\\n",
       "0  02 - Automobile       AUDI  2005.0      4S    GRAY       -77.09310515   \n",
       "1  02 - Automobile       TOYT  2002.0      4S     RED       -77.25358095   \n",
       "2  02 - Automobile      HONDA  1996.0   CIVIC  SILVER  -77.1007551666667   \n",
       "3  02 - Automobile      HONDA  2001.0  ACCORD  SILVER  -77.2290883333333   \n",
       "4  02 - Automobile  CHEVROLET  2004.0  IMPALA  SILVER  -76.9696780666667   \n",
       "\n",
       "           Latitude  \n",
       "0        38.9835782  \n",
       "1  39.1618098166667  \n",
       "2  38.9827307333333  \n",
       "3  39.1628883333333  \n",
       "4       39.06914295  "
      ]
     },
     "execution_count": 15,
     "metadata": {},
     "output_type": "execute_result"
    }
   ],
   "source": [
    "traffic_data.generate_subset('Vehicle', ['VehicleType', 'Make', 'Year', 'Model', 'Color','Longitude', 'Latitude'])"
   ]
  },
  {
   "cell_type": "code",
   "execution_count": 16,
   "id": "0d1410a6",
   "metadata": {
    "execution": {
     "iopub.execute_input": "2022-06-01T14:21:54.578848Z",
     "iopub.status.busy": "2022-06-01T14:21:54.578731Z",
     "iopub.status.idle": "2022-06-01T14:21:54.580336Z",
     "shell.execute_reply": "2022-06-01T14:21:54.580108Z"
    },
    "papermill": {
     "duration": 0.006047,
     "end_time": "2022-06-01T14:21:54.581165",
     "exception": false,
     "start_time": "2022-06-01T14:21:54.575118",
     "status": "completed"
    },
    "tags": []
   },
   "outputs": [],
   "source": [
    "#Plotting the Data"
   ]
  },
  {
   "cell_type": "code",
   "execution_count": 17,
   "id": "905abe64",
   "metadata": {
    "execution": {
     "iopub.execute_input": "2022-06-01T14:21:54.606434Z",
     "iopub.status.busy": "2022-06-01T14:21:54.606296Z",
     "iopub.status.idle": "2022-06-01T14:21:54.609951Z",
     "shell.execute_reply": "2022-06-01T14:21:54.609703Z"
    },
    "papermill": {
     "duration": 0.008254,
     "end_time": "2022-06-01T14:21:54.610829",
     "exception": false,
     "start_time": "2022-06-01T14:21:54.602575",
     "status": "completed"
    },
    "tags": []
   },
   "outputs": [],
   "source": [
    "# Takes in File, Plots Data, and Saves Result File              \n",
    "class Plotting:\n",
    "    \n",
    "    def __init__(self, csv_filename):\n",
    "        \n",
    "        file = csv_filename\n",
    "    \n",
    "        #Direct Path \n",
    "        data_path = pathlib.Path(\".\", file).resolve()\n",
    "        df = pd.read_csv(data_path, engine = 'python') \n",
    "        \n",
    "        #Folder path\n",
    "        #data_path = pathlib.Path(\"./exported\", file).resolve()\n",
    "        #df = pd.read_csv(data_path, engine = 'python')\n",
    "        self.CreateMap(df, file)\n",
    "        return \n",
    "    \n",
    "    #Map the dataframe\n",
    "    def CreateMap(self, dataframe, filename):\n",
    "        file = filename\n",
    "        df_geo = gdp.GeoDataFrame(dataframe, geometry = gdp.points_from_xy(dataframe.Longitude,dataframe.Latitude))\n",
    "    \n",
    "        try:     \n",
    "        \n",
    "            #Plot Map of USA with Cities \n",
    "            us_cities = pd.read_csv(\"https://raw.githubusercontent.com/plotly/datasets/master/us-cities-top-1k.csv\")\n",
    "            #fig = px.scatter_mapbox(us_cities, lat=\"lat\", lon=\"lon\", color_discrete_sequence=[\"fuchsia\"], zoom=3, height=500)\n",
    "\n",
    "            #Data Plot\n",
    "            fig = px.scatter_mapbox(df_geo,lat='Latitude', lon='Longitude', title=\"Map of Violations\", color_discrete_sequence=[\"fuchsia\"], height=750)\n",
    "            fig.update_layout(mapbox_style=\"open-street-map\")\n",
    "            fig.update_layout(margin={\"r\":0,\"t\":0,\"l\":0,\"b\":0})\n",
    "          \n",
    "            #Write Data to file ---- NEEDS TO PRINT WITH TABLE NAME\n",
    "            pio.write_html(fig,file+\".html\")\n",
    "            #pio.write_html(fig,\"figure/fig1.html\")  \n",
    "            \n",
    "            filecheck(file+'.html')\n",
    "            \n",
    "            #Create Unique File for each query\n",
    "            #path = os.path.join('figure', table_name)\n",
    "            #fig.to_html(path+'.html')\n",
    "                        \n",
    "        except Exception as e:\n",
    "            logging.error(e)\n",
    "            print(e)\n",
    "            return\n",
    "    \n",
    "        return  \n",
    "    \n",
    "    "
   ]
  },
  {
   "cell_type": "code",
   "execution_count": 18,
   "id": "a1bc9c8c",
   "metadata": {
    "execution": {
     "iopub.execute_input": "2022-06-01T14:21:54.617589Z",
     "iopub.status.busy": "2022-06-01T14:21:54.617479Z",
     "iopub.status.idle": "2022-06-01T14:22:45.150868Z",
     "shell.execute_reply": "2022-06-01T14:22:45.150605Z"
    },
    "papermill": {
     "duration": 50.543361,
     "end_time": "2022-06-01T14:22:45.157369",
     "exception": false,
     "start_time": "2022-06-01T14:21:54.614008",
     "status": "completed"
    },
    "tags": []
   },
   "outputs": [
    {
     "data": {
      "text/plain": [
       "<__main__.Plotting at 0x2c69e7eb0>"
      ]
     },
     "execution_count": 18,
     "metadata": {},
     "output_type": "execute_result"
    }
   ],
   "source": [
    "Plotting(\"Traffic_Violations_Final.csv\")\n",
    "Plotting(\"./exported/Incident.csv\")\n",
    "Plotting(\"./exported/Report.csv\")\n",
    "Plotting(\"./exported/Time.csv\")\n",
    "Plotting(\"./exported/Agency.csv\")\n",
    "Plotting(\"./exported/Subagency.csv\")\n",
    "Plotting(\"./exported/Driver.csv\")\n",
    "Plotting(\"./exported/Vehicle.csv\")"
   ]
  },
  {
   "cell_type": "code",
   "execution_count": 19,
   "id": "a93e383a",
   "metadata": {
    "execution": {
     "iopub.execute_input": "2022-06-01T14:22:45.164727Z",
     "iopub.status.busy": "2022-06-01T14:22:45.164601Z",
     "iopub.status.idle": "2022-06-01T14:22:45.166777Z",
     "shell.execute_reply": "2022-06-01T14:22:45.166551Z"
    },
    "papermill": {
     "duration": 0.006846,
     "end_time": "2022-06-01T14:22:45.167579",
     "exception": false,
     "start_time": "2022-06-01T14:22:45.160733",
     "status": "completed"
    },
    "tags": []
   },
   "outputs": [],
   "source": [
    "#Plotting Conditional Data\n",
    "def condplot(location, title, condition):\n",
    "    df = pd.read_csv(location, dtype='unicode')\n",
    "    df = eval(condition)\n",
    "    \n",
    "    # write output\n",
    "    path = os.path.join('conditions', title)\n",
    "    df.to_csv(path+'.csv')\n",
    "\n",
    "    #Create and Save Graph\n",
    "    Plotting(\"./conditions/\"+title+\".csv\")"
   ]
  },
  {
   "cell_type": "code",
   "execution_count": 20,
   "id": "2a3f1508",
   "metadata": {
    "execution": {
     "iopub.execute_input": "2022-06-01T14:22:45.174592Z",
     "iopub.status.busy": "2022-06-01T14:22:45.174485Z",
     "iopub.status.idle": "2022-06-01T14:22:46.650674Z",
     "shell.execute_reply": "2022-06-01T14:22:46.650340Z"
    },
    "papermill": {
     "duration": 1.480882,
     "end_time": "2022-06-01T14:22:46.651813",
     "exception": false,
     "start_time": "2022-06-01T14:22:45.170931",
     "status": "completed"
    },
    "tags": []
   },
   "outputs": [],
   "source": [
    "#Only Impared by alcohol in Virginia who contributed to accident\n",
    "condplot(\"./exported/Incident.csv\", \"VirginiaAlcoholAccident\", \"df[(df['Description'].str.contains('Alcohol')) & (df['State'] =='VA')& (df['Contributed To Accident'] =='YES')]\" )"
   ]
  },
  {
   "cell_type": "code",
   "execution_count": 21,
   "id": "6923364d",
   "metadata": {
    "execution": {
     "iopub.execute_input": "2022-06-01T14:22:46.659588Z",
     "iopub.status.busy": "2022-06-01T14:22:46.659467Z",
     "iopub.status.idle": "2022-06-01T14:22:47.593092Z",
     "shell.execute_reply": "2022-06-01T14:22:47.592768Z"
    },
    "papermill": {
     "duration": 0.938583,
     "end_time": "2022-06-01T14:22:47.594199",
     "exception": false,
     "start_time": "2022-06-01T14:22:46.655616",
     "status": "completed"
    },
    "tags": []
   },
   "outputs": [],
   "source": [
    "#Only Fatal with property damage not wearing a seatbelt\n",
    "condplot(\"./exported/Report.csv\", \"NoSeatBelt_Fatal\", \"df[(df['Fatal'] == 'YES') & (df['Property Damage'] =='YES') & (df['Belts'] =='NO') ]\" )"
   ]
  },
  {
   "cell_type": "code",
   "execution_count": 22,
   "id": "bbba9151",
   "metadata": {
    "execution": {
     "iopub.execute_input": "2022-06-01T14:22:47.601628Z",
     "iopub.status.busy": "2022-06-01T14:22:47.601502Z",
     "iopub.status.idle": "2022-06-01T14:22:48.897916Z",
     "shell.execute_reply": "2022-06-01T14:22:48.897636Z"
    },
    "papermill": {
     "duration": 1.301194,
     "end_time": "2022-06-01T14:22:48.898951",
     "exception": false,
     "start_time": "2022-06-01T14:22:47.597757",
     "status": "completed"
    },
    "tags": []
   },
   "outputs": [],
   "source": [
    "#Only 2014 between 8am and 5pm\n",
    "condplot(\"./exported/Time.csv\", \"2014_8am_to_8pm\", \"df[(df['Date Of Stop'] == '2014') & (df['Time Of Stop'] >'08:00:00') & (df['Time Of Stop'] <'17:00:00') ]\" )"
   ]
  },
  {
   "cell_type": "code",
   "execution_count": 23,
   "id": "da90b95b",
   "metadata": {
    "execution": {
     "iopub.execute_input": "2022-06-01T14:22:48.906302Z",
     "iopub.status.busy": "2022-06-01T14:22:48.906183Z",
     "iopub.status.idle": "2022-06-01T14:22:54.979978Z",
     "shell.execute_reply": "2022-06-01T14:22:54.979624Z"
    },
    "papermill": {
     "duration": 6.07864,
     "end_time": "2022-06-01T14:22:54.981063",
     "exception": false,
     "start_time": "2022-06-01T14:22:48.902423",
     "status": "completed"
    },
    "tags": []
   },
   "outputs": [],
   "source": [
    "#Only vehicles that are honda and silver \n",
    "condplot(\"./exported/Agency.csv\", \"AgencyMCP\", \"df[(df['Agency'] == 'MCP')]\" )"
   ]
  },
  {
   "cell_type": "code",
   "execution_count": 24,
   "id": "b535bd61",
   "metadata": {
    "execution": {
     "iopub.execute_input": "2022-06-01T14:22:54.988497Z",
     "iopub.status.busy": "2022-06-01T14:22:54.988377Z",
     "iopub.status.idle": "2022-06-01T14:22:56.517427Z",
     "shell.execute_reply": "2022-06-01T14:22:56.517073Z"
    },
    "papermill": {
     "duration": 1.533909,
     "end_time": "2022-06-01T14:22:56.518508",
     "exception": false,
     "start_time": "2022-06-01T14:22:54.984599",
     "status": "completed"
    },
    "tags": []
   },
   "outputs": [],
   "source": [
    "#Only 2nd district Bethesda\n",
    "condplot(\"./exported/Subagency.csv\", \"AgencyofBethesda\", \"df[(df['SubAgency'] == '2nd district, Bethesda')]\" )"
   ]
  },
  {
   "cell_type": "code",
   "execution_count": 25,
   "id": "38e84b32",
   "metadata": {
    "execution": {
     "iopub.execute_input": "2022-06-01T14:22:56.526001Z",
     "iopub.status.busy": "2022-06-01T14:22:56.525881Z",
     "iopub.status.idle": "2022-06-01T14:22:57.391457Z",
     "shell.execute_reply": "2022-06-01T14:22:57.391174Z"
    },
    "papermill": {
     "duration": 0.870451,
     "end_time": "2022-06-01T14:22:57.392533",
     "exception": false,
     "start_time": "2022-06-01T14:22:56.522082",
     "status": "completed"
    },
    "tags": []
   },
   "outputs": [],
   "source": [
    "#Only Females with New York Drivers License\n",
    "condplot(\"./exported/Driver.csv\", \"NewYorkFemaleDrivers\", \"df[(df['Driver State'] == 'NY') & (df['Gender'] =='F')]\" )"
   ]
  },
  {
   "cell_type": "code",
   "execution_count": 26,
   "id": "9f9195e0",
   "metadata": {
    "execution": {
     "iopub.execute_input": "2022-06-01T14:22:57.400219Z",
     "iopub.status.busy": "2022-06-01T14:22:57.400100Z",
     "iopub.status.idle": "2022-06-01T14:22:58.483096Z",
     "shell.execute_reply": "2022-06-01T14:22:58.482812Z"
    },
    "papermill": {
     "duration": 1.088105,
     "end_time": "2022-06-01T14:22:58.484171",
     "exception": false,
     "start_time": "2022-06-01T14:22:57.396066",
     "status": "completed"
    },
    "tags": []
   },
   "outputs": [],
   "source": [
    "#Only vehicles that are honda and silver \n",
    "condplot(\"./exported/Vehicle.csv\", \"SilverHondas\", \"df[(df['Make'] == 'HONDA') & (df['Color'] =='SILVER')]\" )"
   ]
  },
  {
   "cell_type": "code",
   "execution_count": null,
   "id": "0cfb8c6c",
   "metadata": {
    "papermill": {
     "duration": 0.003331,
     "end_time": "2022-06-01T14:22:58.491014",
     "exception": false,
     "start_time": "2022-06-01T14:22:58.487683",
     "status": "completed"
    },
    "tags": []
   },
   "outputs": [],
   "source": []
  },
  {
   "cell_type": "code",
   "execution_count": null,
   "id": "cc567e3b",
   "metadata": {
    "papermill": {
     "duration": 0.003253,
     "end_time": "2022-06-01T14:22:58.497457",
     "exception": false,
     "start_time": "2022-06-01T14:22:58.494204",
     "status": "completed"
    },
    "tags": []
   },
   "outputs": [],
   "source": []
  }
 ],
 "metadata": {
  "kernelspec": {
   "display_name": "Python 3 (ipykernel)",
   "language": "python",
   "name": "python3"
  },
  "language_info": {
   "codemirror_mode": {
    "name": "ipython",
    "version": 3
   },
   "file_extension": ".py",
   "mimetype": "text/x-python",
   "name": "python",
   "nbconvert_exporter": "python",
   "pygments_lexer": "ipython3",
   "version": "3.9.13"
  },
  "papermill": {
   "default_parameters": {},
   "duration": 94.939089,
   "end_time": "2022-06-01T14:22:59.121695",
   "environment_variables": {},
   "exception": null,
   "input_path": "./Capstone_Project.ipynb",
   "output_path": "./result.ipynb",
   "parameters": {},
   "start_time": "2022-06-01T14:21:24.182606",
   "version": "2.3.4"
  }
 },
 "nbformat": 4,
 "nbformat_minor": 5
}