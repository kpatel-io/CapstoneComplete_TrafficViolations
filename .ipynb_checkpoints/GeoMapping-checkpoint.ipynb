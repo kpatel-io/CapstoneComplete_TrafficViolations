{
 "cells": [
  {
   "cell_type": "code",
   "execution_count": 166,
   "id": "c5692a85",
   "metadata": {},
   "outputs": [],
   "source": [
    "import matplotlib\n",
    "import matplotlib.pyplot as plt\n",
    "import geopandas as gdp\n",
    "import plotly.express as px \n",
    "import plotly.io as pio\n",
    "import pandas as pd\n",
    "import pathlib\n",
    "import plotly.figure_factory as ff\n",
    "import folium \n",
    "import os\n",
    "import kaleido\n",
    "from os.path import exists"
   ]
  },
  {
   "cell_type": "code",
   "execution_count": null,
   "id": "4e0fd7e2",
   "metadata": {},
   "outputs": [],
   "source": [
    "# Pass Data below and create unique output files. "
   ]
  },
  {
   "cell_type": "code",
   "execution_count": 176,
   "id": "14e552e7",
   "metadata": {},
   "outputs": [],
   "source": [
    "# Takes in File, Plots Data, and Saves Result File              \n",
    "class Plotting:\n",
    "    \n",
    "  \n",
    "    \n",
    "    #No conditions\n",
    "    def __init__(self, csv_filename):\n",
    "        \n",
    "        file = csv_filename\n",
    "        #Direct Path \n",
    "        data_path = pathlib.Path(\".\", file).resolve()\n",
    "        df = pd.read_csv(data_path, engine = 'python') \n",
    "        \n",
    "        #Folder path\n",
    "        #data_path = pathlib.Path(\"./exported\", file).resolve()\n",
    "        #df = pd.read_csv(data_path, engine = 'python')\n",
    "        CreateMap(df)\n",
    "        return \n",
    "        \n",
    "            \n",
    "    \n",
    "#     # One or more Conditions\n",
    "#     def Conditions(self, csv_filename, [])\n",
    "        \n",
    "#         #Folder path\n",
    "#         data_path = pathlib.Path(\"./exported\", \"Vehicle.csv\").resolve()\n",
    "#         df = pd.read_csv(data_path, engine = 'python')\n",
    "\n",
    "#         #from table vehicle we plot make = honda and color is silver \n",
    "#         df = df [ df['Make'].isin(['HONDA']) & df['Color'].isin(['SILVER']) ] \n",
    "    \n",
    "#         return CreateMap(df)    \n",
    "    \n",
    "    #Map the dataframe\n",
    "    def CreateMap(self, dataframe):\n",
    "        df_geo = gdp.GeoDataFrame(dataframe, geometry = gdp.points_from_xy(dataframe.Longitude,dataframe.Latitude))\n",
    "    \n",
    "        try:     \n",
    "        \n",
    "            #Plot Map of USA with Cities \n",
    "            us_cities = pd.read_csv(\"https://raw.githubusercontent.com/plotly/datasets/master/us-cities-top-1k.csv\")\n",
    "            #fig = px.scatter_mapbox(us_cities, lat=\"lat\", lon=\"lon\", color_discrete_sequence=[\"fuchsia\"], zoom=3, height=500)\n",
    "\n",
    "            #Export Image Folder\n",
    "            if not os.path.exists(\"figure\"):\n",
    "                os.mkdir(\"figure\")\n",
    "\n",
    "            #Data Plot\n",
    "            fig = px.scatter_mapbox(df_geo,lat='Latitude', lon='Longitude', title=\"Map of Violations\", color_discrete_sequence=[\"fuchsia\"], height=750)\n",
    "            fig.update_layout(mapbox_style=\"open-street-map\")\n",
    "            fig.update_layout(margin={\"r\":0,\"t\":0,\"l\":0,\"b\":0})\n",
    "          \n",
    "            #Write Data to file\n",
    "            pio.write_html(fig,\"figure/fig1.html\")  \n",
    "            \n",
    "            \n",
    "            filecheck(path+'_fig1.html')\n",
    "            #fig.show()\n",
    "            \n",
    "            #Create Unique File for each query\n",
    "            path = os.path.join('figure', table_name)\n",
    "            fig.to_html(path+'.html')\n",
    "            \n",
    "            \n",
    "            \n",
    "        except Exception as e:\n",
    "            logging.error(e)\n",
    "            print(e)\n",
    "            return\n",
    "    \n",
    "        return output  \n",
    "    \n",
    "    "
   ]
  },
  {
   "cell_type": "code",
   "execution_count": 177,
   "id": "2aad286e",
   "metadata": {},
   "outputs": [
    {
     "ename": "NameError",
     "evalue": "name 'CreateMap' is not defined",
     "output_type": "error",
     "traceback": [
      "\u001b[0;31m---------------------------------------------------------------------------\u001b[0m",
      "\u001b[0;31mNameError\u001b[0m                                 Traceback (most recent call last)",
      "Input \u001b[0;32mIn [177]\u001b[0m, in \u001b[0;36m<cell line: 1>\u001b[0;34m()\u001b[0m\n\u001b[0;32m----> 1\u001b[0m \u001b[43mPlotting\u001b[49m\u001b[43m(\u001b[49m\u001b[38;5;124;43m\"\u001b[39;49m\u001b[38;5;124;43mTraffic_Violations_Final.csv\u001b[39;49m\u001b[38;5;124;43m\"\u001b[39;49m\u001b[43m)\u001b[49m\n",
      "Input \u001b[0;32mIn [176]\u001b[0m, in \u001b[0;36mPlotting.__init__\u001b[0;34m(self, csv_filename)\u001b[0m\n\u001b[1;32m     51\u001b[0m df \u001b[38;5;241m=\u001b[39m pd\u001b[38;5;241m.\u001b[39mread_csv(data_path, engine \u001b[38;5;241m=\u001b[39m \u001b[38;5;124m'\u001b[39m\u001b[38;5;124mpython\u001b[39m\u001b[38;5;124m'\u001b[39m) \n\u001b[1;32m     53\u001b[0m \u001b[38;5;66;03m#Folder path\u001b[39;00m\n\u001b[1;32m     54\u001b[0m \u001b[38;5;66;03m#data_path = pathlib.Path(\"./exported\", file).resolve()\u001b[39;00m\n\u001b[1;32m     55\u001b[0m \u001b[38;5;66;03m#df = pd.read_csv(data_path, engine = 'python')\u001b[39;00m\n\u001b[0;32m---> 56\u001b[0m \u001b[43mCreateMap\u001b[49m(df)\n\u001b[1;32m     57\u001b[0m \u001b[38;5;28;01mreturn\u001b[39;00m\n",
      "\u001b[0;31mNameError\u001b[0m: name 'CreateMap' is not defined"
     ]
    }
   ],
   "source": [
    "Plotting(\"Traffic_Violations_Final.csv\")"
   ]
  },
  {
   "cell_type": "code",
   "execution_count": null,
   "id": "97be4f97",
   "metadata": {},
   "outputs": [],
   "source": []
  },
  {
   "cell_type": "code",
   "execution_count": null,
   "id": "99efcd56",
   "metadata": {},
   "outputs": [],
   "source": [
    "# Working Reserved Code Below "
   ]
  },
  {
   "cell_type": "code",
   "execution_count": null,
   "id": "998c274d",
   "metadata": {},
   "outputs": [],
   "source": [
    "#Direct Path \n",
    "data_path = pathlib.Path(\".\", \"Traffic_Violations_Final.csv\").resolve()\n",
    "df = pd.read_csv(data_path, engine = 'python')\n",
    " "
   ]
  },
  {
   "cell_type": "code",
   "execution_count": 167,
   "id": "f1ad55e2",
   "metadata": {
    "scrolled": true
   },
   "outputs": [],
   "source": [
    "#Folder path\n",
    "data_path = pathlib.Path(\"./exported\", \"Vehicle.csv\").resolve()\n",
    "df = pd.read_csv(data_path, engine = 'python')\n",
    "\n",
    "#from table vehicle we plot make = honda and color is silver \n",
    "df = df [ df['Make'].isin(['HONDA']) & df['Color'].isin(['SILVER']) ] \n"
   ]
  },
  {
   "cell_type": "code",
   "execution_count": 169,
   "id": "1c05afc0",
   "metadata": {},
   "outputs": [],
   "source": [
    "#Define the GeoPoints for Mapping\n",
    "df_geo = gdp.GeoDataFrame(df, geometry = gdp.points_from_xy(df.Longitude,df.Latitude))\n",
    "\n",
    "\n",
    "#Plot Map of USA with Cities \n",
    "us_cities = pd.read_csv(\"https://raw.githubusercontent.com/plotly/datasets/master/us-cities-top-1k.csv\")\n",
    "#fig = px.scatter_mapbox(us_cities, lat=\"lat\", lon=\"lon\", color_discrete_sequence=[\"fuchsia\"], zoom=3, height=500)\n",
    "\n",
    "#Export Image\n",
    "if not os.path.exists(\"figure\"):\n",
    "    os.mkdir(\"figure\")\n",
    "\n",
    "#Data Plot\n",
    "fig = px.scatter_mapbox(df_geo,lat='Latitude', lon='Longitude', title=\"Map of Violations\", color_discrete_sequence=[\"fuchsia\"], height=750)\n",
    "\n",
    "\n",
    "fig.update_layout(mapbox_style=\"open-street-map\")\n",
    "fig.update_layout(margin={\"r\":0,\"t\":0,\"l\":0,\"b\":0})\n",
    "pio.write_html(fig,\"figure/fig1.html\")  \n",
    "#fig.show()\n",
    "    \n",
    "#plotly.io.write_image \n",
    "#fig.write_image(\"figure/fig1.jpeg\")"
   ]
  },
  {
   "cell_type": "code",
   "execution_count": null,
   "id": "3b398dc3",
   "metadata": {},
   "outputs": [],
   "source": []
  }
 ],
 "metadata": {
  "kernelspec": {
   "display_name": "Python 3 (ipykernel)",
   "language": "python",
   "name": "python3"
  },
  "language_info": {
   "codemirror_mode": {
    "name": "ipython",
    "version": 3
   },
   "file_extension": ".py",
   "mimetype": "text/x-python",
   "name": "python",
   "nbconvert_exporter": "python",
   "pygments_lexer": "ipython3",
   "version": "3.9.13"
  }
 },
 "nbformat": 4,
 "nbformat_minor": 5
}
